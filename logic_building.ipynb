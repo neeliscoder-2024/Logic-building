{
  "nbformat": 4,
  "nbformat_minor": 0,
  "metadata": {
    "colab": {
      "provenance": []
    },
    "kernelspec": {
      "name": "python3",
      "display_name": "Python 3"
    },
    "language_info": {
      "name": "python"
    }
  },
  "cells": [
    {
      "cell_type": "markdown",
      "source": [
        "Create a program that prints numbers from 1 to 10, but skips 5."
      ],
      "metadata": {
        "id": "t8I0SA34vP2e"
      }
    },
    {
      "cell_type": "code",
      "execution_count": 19,
      "metadata": {
        "colab": {
          "base_uri": "https://localhost:8080/"
        },
        "id": "NOyrYxqpvJ9Y",
        "outputId": "2391123e-ca20-44f4-cce5-dbedd407fd73"
      },
      "outputs": [
        {
          "output_type": "stream",
          "name": "stdout",
          "text": [
            "0\n",
            "1\n",
            "2\n",
            "3\n",
            "4\n",
            "6\n",
            "7\n",
            "8\n",
            "9\n",
            "10\n"
          ]
        }
      ],
      "source": [
        "def skip_number():\n",
        "  for i in range(11):\n",
        "    if i==5:\n",
        "      continue\n",
        "    print(i)\n",
        "skip_number()"
      ]
    },
    {
      "cell_type": "markdown",
      "source": [
        "How about skipping multiple numbers, say 5 and 7, and printing the rest?"
      ],
      "metadata": {
        "id": "kKxVA9I5yasQ"
      }
    },
    {
      "cell_type": "code",
      "source": [
        "def skip_number():\n",
        "  for i in range(11):\n",
        "    if i == 5 or i == 7:\n",
        "      continue\n",
        "    print(i)\n",
        "skip_number()"
      ],
      "metadata": {
        "colab": {
          "base_uri": "https://localhost:8080/"
        },
        "id": "YVF18U71v1Du",
        "outputId": "fd6ffa88-0f1d-4c6d-ed4b-be020cb258bf"
      },
      "execution_count": 21,
      "outputs": [
        {
          "output_type": "stream",
          "name": "stdout",
          "text": [
            "0\n",
            "1\n",
            "2\n",
            "3\n",
            "4\n",
            "6\n",
            "8\n",
            "9\n",
            "10\n"
          ]
        }
      ]
    },
    {
      "cell_type": "markdown",
      "source": [
        "Write a function that prints numbers from 1 to 20, but skips:\n",
        "- All multiples of 3\n",
        "- And also skips 13"
      ],
      "metadata": {
        "id": "ciOk4MX7zZRH"
      }
    },
    {
      "cell_type": "code",
      "source": [
        "def skip_number():\n",
        "  for i in range(21):\n",
        "    if i % 3==0 or i == 13:\n",
        "      continue\n",
        "    print(i)\n",
        "skip_number()"
      ],
      "metadata": {
        "colab": {
          "base_uri": "https://localhost:8080/"
        },
        "id": "pzcoRtG8y52e",
        "outputId": "d21b35aa-71df-4bae-bdbe-b3c699737c59"
      },
      "execution_count": 26,
      "outputs": [
        {
          "output_type": "stream",
          "name": "stdout",
          "text": [
            "1\n",
            "2\n",
            "4\n",
            "5\n",
            "7\n",
            "8\n",
            "10\n",
            "11\n",
            "14\n",
            "16\n",
            "17\n",
            "19\n",
            "20\n"
          ]
        }
      ]
    },
    {
      "cell_type": "markdown",
      "source": [
        "Print numbers from 1 to 30, but:\n",
        "- Skip all multiples of 3 except for 15\n",
        "- Skip 13 and 29\n",
        "- And when you hit 25, print “Launch!” instead of the number\n",
        "Let me know when you're ready to tackle it—or if you'd like me to break the problem into tiny bite-sized goals first. You're on a roll, and I’m here to help keep it spinning!"
      ],
      "metadata": {
        "id": "UGIQ2my81-Xj"
      }
    },
    {
      "cell_type": "code",
      "source": [
        "def skip_number():\n",
        "  for i in range(31):\n",
        "    if i % 3 ==0 and i != 15:\n",
        "      continue\n",
        "    if i == 13 or i == 29:\n",
        "      continue\n",
        "    if i == 25:\n",
        "      print(f'Launch!')\n",
        "    else:\n",
        "      print(f'{i}')\n",
        "skip_number()"
      ],
      "metadata": {
        "colab": {
          "base_uri": "https://localhost:8080/"
        },
        "id": "OipVsP4Q0GOm",
        "outputId": "2ac3c09d-3132-4322-b744-9ff73063a054"
      },
      "execution_count": 35,
      "outputs": [
        {
          "output_type": "stream",
          "name": "stdout",
          "text": [
            "1\n",
            "2\n",
            "4\n",
            "5\n",
            "7\n",
            "8\n",
            "10\n",
            "11\n",
            "14\n",
            "15\n",
            "16\n",
            "17\n",
            "19\n",
            "20\n",
            "22\n",
            "23\n",
            "Launch!\n",
            "26\n",
            "28\n"
          ]
        }
      ]
    },
    {
      "cell_type": "markdown",
      "source": [
        "Print numbers from 1 to 50, but:\n",
        "- Replace multiples of 5 with \"Buzz\"\n",
        "- Replace multiples of 7 with \"Zap\"\n",
        "- If it’s a multiple of both, print \"BuzzZap\" instead\n",
        "- Skip prime numbers below 10"
      ],
      "metadata": {
        "id": "notZS5yx48Td"
      }
    },
    {
      "cell_type": "code",
      "source": [
        "def is_prime(n):\n",
        "    if n < 2:\n",
        "        return False\n",
        "    for i in range(2, int(n ** 0.5) + 1):\n",
        "        if n % i == 0:\n",
        "            return False\n",
        "    return True\n",
        "def replace_with():\n",
        "    skip_primes = [2, 3, 5, 7]\n",
        "    for i in range(1, 51):\n",
        "        if i in skip_primes:\n",
        "            continue\n",
        "        if i % 5 == 0 and i % 7 == 0:\n",
        "            print(\"BuzzZap\")\n",
        "        elif i % 5 == 0:\n",
        "            print(\"Buzz\")\n",
        "        elif i % 7 == 0:\n",
        "            print(\"Zap\")\n",
        "        else:\n",
        "            print(i)\n",
        "replace_with()"
      ],
      "metadata": {
        "colab": {
          "base_uri": "https://localhost:8080/"
        },
        "id": "gUsBJXSz21Ak",
        "outputId": "abca0296-3b1f-499e-88db-11acc4986aae"
      },
      "execution_count": 60,
      "outputs": [
        {
          "output_type": "stream",
          "name": "stdout",
          "text": [
            "1\n",
            "4\n",
            "6\n",
            "8\n",
            "9\n",
            "Buzz\n",
            "11\n",
            "12\n",
            "13\n",
            "Zap\n",
            "Buzz\n",
            "16\n",
            "17\n",
            "18\n",
            "19\n",
            "Buzz\n",
            "Zap\n",
            "22\n",
            "23\n",
            "24\n",
            "Buzz\n",
            "26\n",
            "27\n",
            "Zap\n",
            "29\n",
            "Buzz\n",
            "31\n",
            "32\n",
            "33\n",
            "34\n",
            "BuzzZap\n",
            "36\n",
            "37\n",
            "38\n",
            "39\n",
            "Buzz\n",
            "41\n",
            "Zap\n",
            "43\n",
            "44\n",
            "Buzz\n",
            "46\n",
            "47\n",
            "48\n",
            "Zap\n",
            "Buzz\n"
          ]
        }
      ]
    },
    {
      "cell_type": "code",
      "source": [],
      "metadata": {
        "id": "scErtHw7624Z"
      },
      "execution_count": null,
      "outputs": []
    }
  ]
}