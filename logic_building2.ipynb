{
  "nbformat": 4,
  "nbformat_minor": 0,
  "metadata": {
    "colab": {
      "provenance": []
    },
    "kernelspec": {
      "name": "python3",
      "display_name": "Python 3"
    },
    "language_info": {
      "name": "python"
    }
  },
  "cells": [
    {
      "cell_type": "code",
      "execution_count": 1,
      "metadata": {
        "colab": {
          "base_uri": "https://localhost:8080/"
        },
        "id": "mVBRaO4qaatR",
        "outputId": "f5a61314-edb2-4d06-f296-4df644dcf156"
      },
      "outputs": [
        {
          "output_type": "stream",
          "name": "stdout",
          "text": [
            "Perfect logic match!\n"
          ]
        }
      ],
      "source": [
        "x = 10\n",
        "if x % 2 == 0 and x // 5 == 2:\n",
        "    print(\"Perfect logic match!\")"
      ]
    },
    {
      "cell_type": "code",
      "source": [
        "def decode_logic(start,end):\n",
        "  for i in range(start,end+1):\n",
        "    matched =False\n",
        "    if i % 2 == 0 and i // 4 == 3:\n",
        "      print(f\"{i} EvenQuotient \")\n",
        "      matched=True\n",
        "    elif i % 3 == 0 and i % 5 == i//2:\n",
        "      print(f'{i} TripleMatch')\n",
        "      matched=True\n",
        "    elif i % 6 == i // 6:\n",
        "      print(f'{i} Balanced')\n",
        "      matched=True\n",
        "    elif not matched:\n",
        "      print(i)\n",
        "\n",
        "\n",
        "decode_logic(1,20)"
      ],
      "metadata": {
        "colab": {
          "base_uri": "https://localhost:8080/"
        },
        "id": "GNqCLoiwhZKy",
        "outputId": "856dd8c4-7b0f-43c1-a0f6-02c8f22c930e"
      },
      "execution_count": 2,
      "outputs": [
        {
          "output_type": "stream",
          "name": "stdout",
          "text": [
            "1\n",
            "2\n",
            "3\n",
            "4\n",
            "5\n",
            "6\n",
            "7 Balanced\n",
            "8\n",
            "9 TripleMatch\n",
            "10\n",
            "11\n",
            "12 EvenQuotient \n",
            "13\n",
            "14 EvenQuotient \n",
            "15\n",
            "16\n",
            "17\n",
            "18\n",
            "19\n",
            "20\n"
          ]
        }
      ]
    },
    {
      "cell_type": "code",
      "source": [
        "def factor_match(limit):\n",
        "  for i in range(1,limit+1):\n",
        "    sum_digits=0\n",
        "    dummy=i\n",
        "    while dummy>0:\n",
        "      sum_digits+=dummy%10\n",
        "      dummy//=10\n",
        "    sum_count=0\n",
        "    dummy=i\n",
        "    while dummy>0:\n",
        "      sum_count+=1\n",
        "      dummy//=10\n",
        "    if sum_digits != 0 and i % sum_digits == 0 and i // 4 == sum_count:\n",
        "      print(f'{i} factormatch')\n",
        "factor_match(21)"
      ],
      "metadata": {
        "colab": {
          "base_uri": "https://localhost:8080/"
        },
        "id": "VKE19ABkoeRi",
        "outputId": "9113c02d-440a-4c1f-b3eb-786ceb2ff6b7"
      },
      "execution_count": 9,
      "outputs": [
        {
          "output_type": "stream",
          "name": "stdout",
          "text": [
            "4 factormatch\n",
            "5 factormatch\n",
            "6 factormatch\n",
            "7 factormatch\n",
            "10 factormatch\n"
          ]
        }
      ]
    },
    {
      "cell_type": "code",
      "source": [],
      "metadata": {
        "id": "dm0QLQ5xsQon"
      },
      "execution_count": 2,
      "outputs": []
    }
  ]
}